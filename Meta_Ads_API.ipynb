{
 "cells": [
  {
   "cell_type": "code",
   "execution_count": null,
   "metadata": {},
   "outputs": [],
   "source": [
    "import requests\n",
    "import pandas as pd\n",
    "from datetime import datetime, timedelta\n",
    "from IPython.display import display, HTML\n",
    "from vaderSentiment.vaderSentiment import SentimentIntensityAnalyzer"
   ]
  },
  {
   "cell_type": "markdown",
   "metadata": {},
   "source": [
    "Long term tokem: EAAQ1Dtj41S0BOygr3L6qKWuZAP7kzLrwA65LLZBs2iwA9HpSuH2CA0BZCfMjTp45bAXwHyn9QqoWa93vJ37q8QJmyt7qXdjbySMeqYjbkxQ4qeiCGfcsKxZA0p7qFPdQFVnbqwjyvKZABOkDSNoU9LkIfDBZCWMcaAkS3JxZBsdk4wQX3zqPUd5uzwX"
   ]
  },
  {
   "cell_type": "code",
   "execution_count": null,
   "metadata": {},
   "outputs": [],
   "source": [
    "'EAAQ1Dtj41S0BOygr3L6qKWuZAP7kzLrwA65LLZBs2iwA9HpSuH2CA0BZCfMjTp45bAXwHyn9QqoWa93vJ37q8QJmyt7qXdjbySMeqYjbkxQ4qeiCGfcsKxZA0p7qFPdQFVnbqwjyvKZABOkDSNoU9LkIfDBZCWMcaAkS3JxZBsdk4wQX3zqPUd5uzwX'"
   ]
  },
  {
   "cell_type": "code",
   "execution_count": null,
   "metadata": {},
   "outputs": [],
   "source": [
    "# Your access token\n",
    "access_token = 'EAAQ1Dtj41S0BOygr3L6qKWuZAP7kzLrwA65LLZBs2iwA9HpSuH2CA0BZCfMjTp45bAXwHyn9QqoWa93vJ37q8QJmyt7qXdjbySMeqYjbkxQ4qeiCGfcsKxZA0p7qFPdQFVnbqwjyvKZABOkDSNoU9LkIfDBZCWMcaAkS3JxZBsdk4wQX3zqPUd5uzwX'\n",
    "\n",
    "# Function to retrieve ads with pagination\n",
    "def get_paginated_ads(topic, start_date, end_date, access_token):\n",
    "    ads_api_url = 'https://graph.facebook.com/v21.0/ads_archive'\n",
    "    \n",
    "    params = {\n",
    "        'access_token': access_token,\n",
    "        'search_terms': topic,\n",
    "        'ad_reached_countries': 'US',\n",
    "        'ad_active_status': 'ALL',\n",
    "        'ad_type': 'POLITICAL_AND_ISSUE_ADS',\n",
    "        'ad_delivery_date_min': start_date.strftime('%Y-%m-%d'),\n",
    "        'ad_delivery_date_max': end_date.strftime('%Y-%m-%d'),\n",
    "        'limit': 100,  # Adjust the limit as needed\n",
    "        'fields': 'ad_creative_bodies,languages,ad_delivery_start_time'\n",
    "    }\n",
    "\n",
    "    ads_data = []\n",
    "    response = requests.get(ads_api_url, params=params)\n",
    "\n",
    "    # Log the response status code\n",
    "    print(f\"Response Status Code: {response.status_code}\")\n",
    "    \n",
    "    if response.status_code != 200:\n",
    "        print(f\"Error fetching ads: {response.text}\")\n",
    "        return None\n",
    "    \n",
    "    while response.status_code == 200:\n",
    "        data = response.json().get('data', [])\n",
    "        if data:\n",
    "            ads_data.extend(data)\n",
    "        else:\n",
    "            print(\"No data returned in this page.\")\n",
    "        \n",
    "        # Check if there is a next page of results\n",
    "        if 'paging' in response.json() and 'next' in response.json()['paging']:\n",
    "            next_url = response.json()['paging']['next']\n",
    "            response = requests.get(next_url)\n",
    "        else:\n",
    "            break\n",
    "    \n",
    "    return ads_data\n",
    "\n",
    "# Set the date range for January 2014\n",
    "start_date = datetime(2019, 1, 1)\n",
    "end_date = datetime(2019, 1, 1)\n",
    "\n",
    "# Call the function with the correct parameters\n",
    "ads_data = get_paginated_ads('economics', start_date, end_date, access_token)\n",
    "\n",
    "# Convert to DataFrame and process\n",
    "if ads_data:\n",
    "    ads_df = pd.DataFrame(ads_data)\n",
    "    print(ads_df.head())  # Display the first few rows\n",
    "else:\n",
    "    print(\"No ads data returned.\")"
   ]
  },
  {
   "cell_type": "code",
   "execution_count": null,
   "metadata": {},
   "outputs": [],
   "source": [
    "ads_df"
   ]
  },
  {
   "cell_type": "code",
   "execution_count": null,
   "metadata": {},
   "outputs": [],
   "source": [
    "# Your access token\n",
    "access_token = 'EAAQ1Dtj41S0BOygr3L6qKWuZAP7kzLrwA65LLZBs2iwA9HpSuH2CA0BZCfMjTp45bAXwHyn9QqoWa93vJ37q8QJmyt7qXdjbySMeqYjbkxQ4qeiCGfcsKxZA0p7qFPdQFVnbqwjyvKZABOkDSNoU9LkIfDBZCWMcaAkS3JxZBsdk4wQX3zqPUd5uzwX'\n",
    "\n",
    "# Function to retrieve ads with pagination\n",
    "def get_paginated_ads(topic, start_date, end_date, access_token):\n",
    "    ads_api_url = 'https://graph.facebook.com/v21.0/ads_archive'\n",
    "    \n",
    "    params = {\n",
    "        'access_token': access_token,\n",
    "        'search_terms': topic,\n",
    "        'ad_reached_countries': 'US',\n",
    "        'ad_active_status': 'ALL',\n",
    "        'ad_type': 'POLITICAL_AND_ISSUE_ADS',\n",
    "        'ad_delivery_date_min': start_date.strftime('%Y-%m-%d'),\n",
    "        'ad_delivery_date_max': end_date.strftime('%Y-%m-%d'),\n",
    "        'limit': 100,  # Adjust the limit as needed\n",
    "        'fields': 'ad_creative_bodies,languages,ad_delivery_start_time,impressions'\n",
    "    }\n",
    "\n",
    "    ads_data = []\n",
    "    response = requests.get(ads_api_url, params=params)\n",
    "\n",
    "    # Log the response status code\n",
    "    print(f\"Response Status Code: {response.status_code}\")\n",
    "    \n",
    "    if response.status_code != 200:\n",
    "        print(f\"Error fetching ads: {response.text}\")\n",
    "        return None\n",
    "    \n",
    "    while response.status_code == 200:\n",
    "        data = response.json().get('data', [])\n",
    "        if data:\n",
    "            ads_data.extend(data)\n",
    "        else:\n",
    "            print(\"No data returned in this page.\")\n",
    "        \n",
    "        # Check if there is a next page of results\n",
    "        if 'paging' in response.json() and 'next' in response.json()['paging']:\n",
    "            next_url = response.json()['paging']['next']\n",
    "            response = requests.get(next_url)\n",
    "        else:\n",
    "            break\n",
    "    \n",
    "    return ads_data\n",
    "\n",
    "# Set the date range for January 2019 (since 2014 is invalid)\n",
    "start_date = datetime(2019, 1, 1)\n",
    "end_date = datetime(2024, 6, 1)\n",
    "\n",
    "# Call the function with the correct parameters\n",
    "ads_data = get_paginated_ads('economics', start_date, end_date, access_token)\n",
    "\n",
    "# Convert to DataFrame and process\n",
    "if ads_data:\n",
    "    ads_df = pd.DataFrame(ads_data)\n",
    "\n",
    "    # Check if 'impressions' are available in the data\n",
    "    if 'impressions' in ads_df.columns:\n",
    "        # Inspect the structure of impressions\n",
    "        print(\"Inspecting the structure of 'impressions':\")\n",
    "        print(ads_df[['impressions']].head())\n",
    "\n",
    "        # Extract the upper_bound from the impressions field and filter by it\n",
    "        ads_df['impressions_upper'] = ads_df['impressions'].apply(\n",
    "            lambda x: int(x['upper_bound']) if isinstance(x, dict) and 'upper_bound' in x else None\n",
    "        )\n",
    "        \n",
    "        # Filter ads with an upper_bound of 100,000 or more\n",
    "        filtered_ads = ads_df[ads_df['impressions_upper'] >= 50000]\n",
    "        \n",
    "        # Display the filtered ads with their creative bodies and upper_bound of impressions\n",
    "        print(filtered_ads[['ad_creative_bodies', 'impressions_upper', 'ad_delivery_start_time']].head())\n",
    "    else:\n",
    "        print(\"Impressions field not found in the response.\")\n",
    "else:\n",
    "    print(\"No ads data returned.\")\n"
   ]
  },
  {
   "cell_type": "code",
   "execution_count": null,
   "metadata": {},
   "outputs": [],
   "source": [
    "filtered_ads"
   ]
  },
  {
   "cell_type": "code",
   "execution_count": null,
   "metadata": {},
   "outputs": [],
   "source": [
    "ads_df"
   ]
  },
  {
   "cell_type": "code",
   "execution_count": 39,
   "metadata": {},
   "outputs": [],
   "source": [
    "ads_df.to_csv('ads_data_unfiltered_all.csv', index=False)"
   ]
  },
  {
   "cell_type": "code",
   "execution_count": 40,
   "metadata": {},
   "outputs": [],
   "source": [
    "filtered_ads.to_csv('ads_data_filtered_all.csv', index=False)"
   ]
  },
  {
   "cell_type": "code",
   "execution_count": null,
   "metadata": {},
   "outputs": [],
   "source": [
    "ads_df['ad_delivery_start_time']"
   ]
  },
  {
   "cell_type": "markdown",
   "metadata": {},
   "source": [
    "Now ads for everyday!!!!!!"
   ]
  },
  {
   "cell_type": "code",
   "execution_count": null,
   "metadata": {},
   "outputs": [],
   "source": [
    "# Your access token\n",
    "access_token = 'EAAQ1Dtj41S0BOygr3L6qKWuZAP7kzLrwA65LLZBs2iwA9HpSuH2CA0BZCfMjTp45bAXwHyn9QqoWa93vJ37q8QJmyt7qXdjbySMeqYjbkxQ4qeiCGfcsKxZA0p7qFPdQFVnbqwjyvKZABOkDSNoU9LkIfDBZCWMcaAkS3JxZBsdk4wQX3zqPUd5uzwX'\n",
    "\n",
    "# Function to retrieve ads for a specific day\n",
    "def get_ads_for_day(topic, date, access_token):\n",
    "    ads_api_url = 'https://graph.facebook.com/v21.0/ads_archive'\n",
    "    \n",
    "    params = {\n",
    "        'access_token': access_token,\n",
    "        'search_terms': topic,\n",
    "        'ad_reached_countries': 'US',\n",
    "        'ad_active_status': 'ALL',\n",
    "        'ad_type': 'POLITICAL_AND_ISSUE_ADS',\n",
    "        'ad_delivery_date_min': date.strftime('%Y-%m-%d'),\n",
    "        'ad_delivery_date_max': date.strftime('%Y-%m-%d'),\n",
    "        'limit': 100,  # Adjust the limit as needed\n",
    "        'fields': 'ad_creative_bodies,languages,ad_delivery_start_time,impressions'\n",
    "    }\n",
    "\n",
    "    response = requests.get(ads_api_url, params=params)\n",
    "    if response.status_code == 200:\n",
    "        return response.json().get('data', [])\n",
    "    else:\n",
    "        print(f\"Error fetching ads for {date}: {response.status_code}, {response.text}\")\n",
    "        return []\n",
    "\n",
    "# Function to iterate over each day in the date range and collect ads\n",
    "def get_ads_for_date_range(topic, start_date, end_date, access_token):\n",
    "    all_ads = []\n",
    "    current_date = start_date\n",
    "\n",
    "    # Loop over each day in the date range\n",
    "    while current_date <= end_date:\n",
    "        print(f\"Fetching ads for {current_date.strftime('%Y-%m-%d')}\")\n",
    "        daily_ads = get_ads_for_day(topic, current_date, access_token)\n",
    "        all_ads.extend(daily_ads)  # Append the ads from that day to the total list\n",
    "        current_date += timedelta(days=1)  # Move to the next day\n",
    "    \n",
    "    return all_ads\n",
    "\n",
    "# Set the date range for January 2019 to June 2024\n",
    "start_date = datetime(2019, 1, 1)\n",
    "end_date = datetime(2019, 6, 1)\n",
    "\n",
    "# Call the function to get ads for the entire date range\n",
    "ads_data = get_ads_for_date_range('economics', start_date, end_date, access_token)\n",
    "\n",
    "# Convert to DataFrame and process\n",
    "if ads_data:\n",
    "    ads_df = pd.DataFrame(ads_data)\n",
    "\n",
    "    # Check if 'impressions' are available in the data\n",
    "    if 'impressions' in ads_df.columns:\n",
    "        # Extract the upper_bound from the impressions field and filter by it\n",
    "        ads_df['impressions_upper'] = ads_df['impressions'].apply(\n",
    "            lambda x: int(x['upper_bound']) if isinstance(x, dict) and 'upper_bound' in x else None\n",
    "        )\n",
    "        \n",
    "        # Filter ads with an upper_bound of 50,000 or more\n",
    "        filtered_ads = ads_df[ads_df['impressions_upper'] >= 50000]\n",
    "        \n",
    "        # Display the filtered ads with their creative bodies and upper_bound of impressions\n",
    "        print(filtered_ads[['ad_creative_bodies', 'impressions_upper', 'ad_delivery_start_time']].head())\n",
    "    else:\n",
    "        print(\"Impressions field not found in the response.\")\n",
    "else:\n",
    "    print(\"No ads data returned.\")\n"
   ]
  },
  {
   "cell_type": "code",
   "execution_count": null,
   "metadata": {},
   "outputs": [],
   "source": [
    "ads_df"
   ]
  },
  {
   "cell_type": "code",
   "execution_count": 51,
   "metadata": {},
   "outputs": [],
   "source": [
    "ads_df.to_csv('ads_data_unfiltered_halfyear_01_2019_to_06_2019.csv', index=False)"
   ]
  },
  {
   "cell_type": "markdown",
   "metadata": {},
   "source": [
    "## VADER"
   ]
  },
  {
   "cell_type": "code",
   "execution_count": 57,
   "metadata": {},
   "outputs": [],
   "source": [
    "df = pd.read_csv('ads_data_unfiltered_halfyear_01_2019_to_06_2019.csv')"
   ]
  },
  {
   "cell_type": "code",
   "execution_count": null,
   "metadata": {},
   "outputs": [],
   "source": [
    "df.isna().sum()"
   ]
  },
  {
   "cell_type": "code",
   "execution_count": null,
   "metadata": {},
   "outputs": [],
   "source": [
    "df['ad_creative_bodies'].dropna()"
   ]
  },
  {
   "cell_type": "code",
   "execution_count": 64,
   "metadata": {},
   "outputs": [],
   "source": [
    "df = df.dropna(subset=['ad_creative_bodies'])"
   ]
  },
  {
   "cell_type": "code",
   "execution_count": null,
   "metadata": {},
   "outputs": [],
   "source": [
    "analyzer = SentimentIntensityAnalyzer()\n",
    "\n",
    "# Function to get sentiment scores\n",
    "def get_sentiment_scores(text):\n",
    "    return analyzer.polarity_scores(text)\n",
    "\n",
    "# Convert 'ad_creative_bodies' column to strings\n",
    "#ads_df['ad_creative_bodies'] = ads_df['ad_creative_bodies'].astype(str)\n",
    "\n",
    "# Apply the function to the 'ad_creative_bodies' column\n",
    "sentiment_scores = df['ad_creative_bodies'].apply(get_sentiment_scores)\n",
    "\n",
    "# Convert the sentiment scores to a DataFrame\n",
    "sentiment_df = pd.DataFrame(sentiment_scores.tolist())\n",
    "\n",
    "# Concatenate the sentiment scores DataFrame with the original DataFrame\n",
    "df = pd.concat([df, sentiment_df], axis=1)\n",
    "\n",
    "# Display the updated DataFrame with sentiment scores\n",
    "scrollable_div = f\"\"\"\n",
    "<div style=\"height: 400px; overflow-y: scroll;\">\n",
    "    {df.to_html(index=False)}\n",
    "</div>\n",
    "\"\"\"\n",
    "\n",
    "display(HTML(scrollable_div))"
   ]
  },
  {
   "cell_type": "code",
   "execution_count": null,
   "metadata": {},
   "outputs": [],
   "source": [
    "df['ad_creative_bodies'].value_counts()"
   ]
  },
  {
   "cell_type": "code",
   "execution_count": null,
   "metadata": {},
   "outputs": [],
   "source": [
    "df[['neg', 'neu', 'pos', 'compound']].value_counts()"
   ]
  },
  {
   "cell_type": "markdown",
   "metadata": {},
   "source": [
    "## API call for different ads per day"
   ]
  },
  {
   "cell_type": "code",
   "execution_count": null,
   "metadata": {},
   "outputs": [],
   "source": [
    "# Your access token\n",
    "access_token = 'EAAQ1Dtj41S0BOygr3L6qKWuZAP7kzLrwA65LLZBs2iwA9HpSuH2CA0BZCfMjTp45bAXwHyn9QqoWa93vJ37q8QJmyt7qXdjbySMeqYjbkxQ4qeiCGfcsKxZA0p7qFPdQFVnbqwjyvKZABOkDSNoU9LkIfDBZCWMcaAkS3JxZBsdk4wQX3zqPUd5uzwX'\n",
    "\n",
    "# Function to retrieve ads for a specific day\n",
    "def get_ads_for_day(topic, date, access_token):\n",
    "    ads_api_url = 'https://graph.facebook.com/v21.0/ads_archive'\n",
    "    \n",
    "    params = {\n",
    "        'access_token': access_token,\n",
    "        'search_terms': topic,\n",
    "        'ad_reached_countries': 'US',\n",
    "        'ad_active_status': 'ALL',\n",
    "        'ad_type': 'POLITICAL_AND_ISSUE_ADS',\n",
    "        'ad_delivery_date_min': date.strftime('%Y-%m-%d'),\n",
    "        'ad_delivery_date_max': date.strftime('%Y-%m-%d'),\n",
    "        'limit': 100,  # Adjust the limit as needed\n",
    "        'fields': 'ad_creative_bodies,languages,ad_delivery_start_time,impressions'\n",
    "    }\n",
    "\n",
    "    response = requests.get(ads_api_url, params=params)\n",
    "    if response.status_code == 200:\n",
    "        return response.json().get('data', [])\n",
    "    else:\n",
    "        print(f\"Error fetching ads for {date}: {response.status_code}, {response.text}\")\n",
    "        return []\n",
    "\n",
    "# Function to iterate over each day in the date range and collect ads\n",
    "def get_ads_for_date_range(topic, start_date, end_date, access_token, min_ads_per_day=5):\n",
    "    all_ads = []\n",
    "    current_date = start_date\n",
    "\n",
    "    # Loop over each day in the date range\n",
    "    while current_date <= end_date:\n",
    "        print(f\"Fetching ads for {current_date.strftime('%Y-%m-%d')}\")\n",
    "\n",
    "        # Fetch ads for the day\n",
    "        daily_ads = get_ads_for_day(topic, current_date, access_token)\n",
    "        \n",
    "        # Filter out ads with the unwanted phrase\n",
    "        daily_ads = [ad for ad in daily_ads if \"This content was removed because it didn't follow our Advertising Standards\" not in ad.get('ad_creative_bodies', '')]\n",
    "\n",
    "        # Ensure that there are at least 5 unique ads (by creative body)\n",
    "        unique_ads = {}\n",
    "        for ad in daily_ads:\n",
    "            creative_body = ad.get('ad_creative_bodies', '')\n",
    "\n",
    "            # Handle if 'ad_creative_bodies' is a list (convert list to a string)\n",
    "            if isinstance(creative_body, list):\n",
    "                creative_body = ' '.join(creative_body)  # Join list items into a single string\n",
    "\n",
    "            # Use the processed creative_body as a key in the unique_ads dictionary\n",
    "            unique_ads[creative_body] = ad\n",
    "\n",
    "        # Check if there are enough unique ads and append them\n",
    "        if len(unique_ads) < min_ads_per_day:\n",
    "            print(f\"Only {len(unique_ads)} unique ads found for {current_date.strftime('%Y-%m-%d')}, but at least {min_ads_per_day} are required.\")\n",
    "            all_ads.extend(unique_ads.values())  # Append all unique ads we have\n",
    "        else:\n",
    "            all_ads.extend(list(unique_ads.values())[:min_ads_per_day])  # Append only the first 5 unique ads\n",
    "\n",
    "        current_date += timedelta(days=1)  # Move to the next day\n",
    "    \n",
    "    return all_ads\n",
    "\n",
    "# Set the date range for January 2019 to June 2019\n",
    "start_date = datetime(2019, 1, 1)\n",
    "end_date = datetime(2024, 6, 1)\n",
    "\n",
    "# Call the function to get ads for the entire date range\n",
    "ads_data = get_ads_for_date_range('economics', start_date, end_date, access_token)\n",
    "\n",
    "# Convert to DataFrame and process\n",
    "if ads_data:\n",
    "    ads_df = pd.DataFrame(ads_data)\n",
    "\n",
    "    # Check if 'impressions' are available in the data\n",
    "    if 'impressions' in ads_df.columns:\n",
    "        # Extract the upper_bound from the impressions field and filter by it\n",
    "        ads_df['impressions_upper'] = ads_df['impressions'].apply(\n",
    "            lambda x: int(x['upper_bound']) if isinstance(x, dict) and 'upper_bound' in x else None\n",
    "        )\n",
    "        \n",
    "        # Filter ads with an upper_bound of 50,000 or more\n",
    "        filtered_ads = ads_df[ads_df['impressions_upper'] >= 50000]\n",
    "        \n",
    "        # Display the filtered ads with their creative bodies and upper_bound of impressions\n",
    "        print(filtered_ads[['ad_creative_bodies', 'impressions_upper', 'ad_delivery_start_time']].head())\n",
    "    else:\n",
    "        print(\"Impressions field not found in the response.\")\n",
    "else:\n",
    "    print(\"No ads data returned.\")\n"
   ]
  },
  {
   "cell_type": "code",
   "execution_count": null,
   "metadata": {},
   "outputs": [],
   "source": [
    "ads_df.isna().sum()"
   ]
  },
  {
   "cell_type": "code",
   "execution_count": 169,
   "metadata": {},
   "outputs": [],
   "source": [
    "ads_df.to_csv('ads_data_unfiltered_halfyear_01_2019_to_06_2024_v1.csv', index=False)"
   ]
  }
 ],
 "metadata": {
  "kernelspec": {
   "display_name": "Python 3",
   "language": "python",
   "name": "python3"
  },
  "language_info": {
   "codemirror_mode": {
    "name": "ipython",
    "version": 3
   },
   "file_extension": ".py",
   "mimetype": "text/x-python",
   "name": "python",
   "nbconvert_exporter": "python",
   "pygments_lexer": "ipython3",
   "version": "3.11.6"
  }
 },
 "nbformat": 4,
 "nbformat_minor": 2
}
